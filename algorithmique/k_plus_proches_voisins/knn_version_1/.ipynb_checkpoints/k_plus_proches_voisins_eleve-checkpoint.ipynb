{
 "cells": [
  {
   "cell_type": "markdown",
   "metadata": {},
   "source": [
    "<div class =\"alert alert-warning\">   \n",
    "    \n",
    "    \n",
    "notebook consultable, exécutable, modifiable et téléchargeable en ligne :     \n",
    "    \n",
    "\t\n",
    "- se rendre à : https://github.com/nsi-acot/continuite_pedagogique_premiere\n",
    "- cliquer sur l'icone \"launch binder\" en bas de page\n",
    "- patienter quelques secondes que le serveur Jupyter démarre\n",
    "- naviguer dans le dossier `\"./algorithmique/k_plus_proches_voisins/\"`\n",
    "- cliquer sur le nom de ce notebook\n",
    "</div>\n"
   ]
  },
  {
   "cell_type": "markdown",
   "metadata": {},
   "source": [
    "# <center> Algorithme des k plus proches voisins.</center>\n",
    "\n",
    "L'algorithme des k plus proches voisins est un algorithme de base en intelligence artificielle.\n",
    "\n",
    "Voici une illustration de cet algorithme dans une situation facilement représentable :\n",
    "\n",
    "Les données sont sous forme d'une liste de personnes caractérisées par un nom, une abscisse, une ordonnée et un type ( homme ou femme ) :\n",
    "\n",
    "|nom |abscisse $x$  | ordonnée $y$  | type |\n",
    "|:-:|:-:|:-:|:-:|\n",
    "|A|1|3|homme|\n",
    "|B|3|2|femme|\n",
    "|C|4,5|0,5|homme|\n",
    "|D|4,5|4|femme|\n",
    "|E|0,5|1|homme|\n",
    "\n",
    "<img src='illustration.png' width=600 >\n",
    "\n",
    "Les 2 plus proches voisins de B sont A et C, la distance considérée étant la distance vue en seconde.\n",
    "\n",
    "Pour rappel : $AB=\\sqrt{(x_B-x_A)^2+(y_B-y_A)^2}$\n",
    "\n",
    "Les 3 plus proches voisins de B sont A, C et D.\n",
    "\n",
    "On va programmer l'algorithme des k plus proches voisins que l'on appliquera sur des tableaux comme ci-dessous :\n"
   ]
  },
  {
   "cell_type": "code",
   "execution_count": null,
   "metadata": {},
   "outputs": [],
   "source": [
    "data=[['A',4,2,5,1],['B',0,4,2,3],['C',2,3,0,5],['D',1,2,5,0]]"
   ]
  },
  {
   "cell_type": "markdown",
   "metadata": {},
   "source": [
    "### Question 1 :\n",
    "\n",
    "Compléter la fonction `creation` suivante, prenant comme paramètre un entier  `n`; et qui renvoie un tableau à deux dimensions de `n` lignes et 5 colonnes, similaire au tableau `data` précédent, les  valeurs étant des entiers aléatoires compris entre 0 et 5."
   ]
  },
  {
   "cell_type": "code",
   "execution_count": null,
   "metadata": {},
   "outputs": [],
   "source": [
    "import random\n",
    "import math\n",
    "\n",
    "def creation(n):\n",
    "    tab=[]\n",
    "    #à compléter\n",
    "    return tab\n",
    "\n",
    "data2=creation(20)\n",
    "print(data2)"
   ]
  },
  {
   "cell_type": "markdown",
   "metadata": {},
   "source": [
    "### Question 2 :\n",
    "\n",
    "Compléter la fonction `distance`, prenant comme paramètres deux entiers  `indice1` et `indice2`,  un tableau `tab`, similaire à `data`; et qui renvoie la distance entre les lignes d'indices `indice1` et `indice2`.\n",
    "\n",
    "La distance entre deux lignes A et B étant calculée à l'aide de la formule suivante :\n",
    "\n",
    "distance$=\\sqrt{(x_B-x_A)^2+(y_B-y_A)^2+(z_B-z_A)^2+...}$\n",
    "\n",
    "où $x$, $y$, $z$, ... étant les grandeurs numériques de ces deux lignes.\n",
    "\n",
    "Par exemple,  `distance(1,2,data)` doit renvoyer 3,61 ( valeur approchée au centième ).\n"
   ]
  },
  {
   "cell_type": "code",
   "execution_count": null,
   "metadata": {},
   "outputs": [],
   "source": [
    "def distance(indice1,indice2,tab):\n",
    "    resultat=0\n",
    "    # à compléter\n",
    "    return resultat\n",
    "\n",
    "print(distance(1,2,data))"
   ]
  },
  {
   "cell_type": "markdown",
   "metadata": {},
   "source": [
    "### Question 3 :\n",
    "\n",
    "Compléter la fonction `tabDistances`, prenant comme paramètres un entier  `indice` et  un tableau `tab`, similaire à `data`; et qui renvoie le tableau des 2-uples composés des lettres et des distances avec la ligne d'indice `indice`.\n",
    "\n",
    "Par exemple,  `tabDistances(1,data)` doit renvoyer le tableau suivant :\n",
    "\n",
    "`[('A', 5.74), ('C', 3.61), ('D', 4.8)]`.\n"
   ]
  },
  {
   "cell_type": "code",
   "execution_count": null,
   "metadata": {},
   "outputs": [],
   "source": [
    "def tabDistances(indice,tab):\n",
    "    resultat=[]\n",
    "    # à compléter\n",
    "        \n",
    "    return resultat\n",
    "\n",
    "\n",
    "tabD=tabDistances(1,data)\n",
    "print(tabD)"
   ]
  },
  {
   "cell_type": "markdown",
   "metadata": {},
   "source": [
    "Il faut désormais trier par ordre croissant sur les distances, les tableaux de type précédent.\n",
    "\n",
    "### Question 4 :\n",
    "\n",
    "Compléter la fonction `tri`, prenant comme paramètre un tableau de 2-uples `tab`, similaire à `tabD`; et qui renvoie ce tableau trié par ordre croissant par rapport à la seconde coordonnée.\n",
    "\n",
    "\n",
    "Par exemple,  `tri(tabD)`, doit renvoyer le tableau suivant: \n",
    "\n",
    "`[('C', 3.61), ('D', 4.8), ('A', 5.74)]`.\n",
    "\n",
    "\n",
    "#### Remarque\n",
    "Pour trier ce tableau,  programmer le tri par sélection, dont on rappelle les différentes étapes :\n",
    "* On recherche la plus petite valeur, puis on échange le 2-uple correspondant avec le premier 2-uple.\n",
    "* On recommence le processus, mais en recherchant à partir du deuxième 2-uple.\n",
    "* On continue le processus, mais en recherchant à partir du troisième 2-uple, et ainsi de suite.\n",
    "\n",
    "\n",
    "\n",
    "\n",
    "\n",
    "\n",
    "\n",
    "\n",
    "\n"
   ]
  },
  {
   "cell_type": "code",
   "execution_count": null,
   "metadata": {},
   "outputs": [],
   "source": [
    "def tri(tab):\n",
    "    # à compléter\n",
    "    return tab\n",
    "\n",
    "tabTrie=tri(tabD)\n",
    "print(tabTrie)"
   ]
  },
  {
   "cell_type": "markdown",
   "metadata": {},
   "source": [
    "#### Remarque \n",
    "En cas de difficulté la fonction suivante permet de réaliser le tri ( mais pas par sélection )."
   ]
  },
  {
   "cell_type": "code",
   "execution_count": null,
   "metadata": {},
   "outputs": [],
   "source": [
    "def tri(tab):\n",
    "    tab.sort( key=lambda x: x[1])        \n",
    "    return tab\n",
    "\n",
    "tabTrie2=tri(tabD)\n",
    "print(tabTrie2)"
   ]
  },
  {
   "cell_type": "markdown",
   "metadata": {},
   "source": [
    "### Question 5 :\n",
    "\n",
    "Compléter la fonction `k_plus_proches_voisins`, prenant comme paramètres deux entiers  `k` et `indice`,  un tableau `tab`, similaire à `data`; et qui renvoie le tableau des noms des `k` plus proches voisins de X, X étant le nom correspondand à la ligne `indice`.\n",
    "\n",
    "Par exemple, `k_plus_proches_voisins(2,1,data)`, doit renvoyer le tableau suivant: \n",
    "\n",
    "['C', 'D']."
   ]
  },
  {
   "cell_type": "code",
   "execution_count": null,
   "metadata": {},
   "outputs": [],
   "source": [
    "def k_plus_proches_voisins(k,indice,tab): \n",
    "\n",
    "    tabTrie= tri(tabDistances(indice,tab))\n",
    "    \n",
    "    # à compléter\n",
    "    \n",
    "    return resultat\n",
    "\n",
    "\n",
    "\n",
    "resultat1=k_plus_proches_voisins(2,1,data)\n",
    "print(resultat1)\n",
    "\n",
    "\n",
    "\n",
    "resultat2=k_plus_proches_voisins(7,5,data2)\n",
    "print(resultat2)\n",
    "\n",
    "\n",
    "\n",
    "\n"
   ]
  }
 ],
 "metadata": {
  "kernelspec": {
   "display_name": "Python 3",
   "language": "python",
   "name": "python3"
  },
  "language_info": {
   "codemirror_mode": {
    "name": "ipython",
    "version": 3
   },
   "file_extension": ".py",
   "mimetype": "text/x-python",
   "name": "python",
   "nbconvert_exporter": "python",
   "pygments_lexer": "ipython3",
   "version": "3.8.2"
  }
 },
 "nbformat": 4,
 "nbformat_minor": 2
}
