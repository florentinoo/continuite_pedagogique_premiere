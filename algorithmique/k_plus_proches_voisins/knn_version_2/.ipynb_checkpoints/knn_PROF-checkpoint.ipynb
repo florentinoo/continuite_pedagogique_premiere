{
 "cells": [
  {
   "cell_type": "markdown",
   "metadata": {},
   "source": [
    "<div class =\"alert alert-warning\">   \n",
    "    \n",
    "    \n",
    "notebook consultable, exécutable, modifiable et téléchargeable en ligne :     \n",
    "    \n",
    "\t\n",
    "- se rendre à : https://github.com/nsi-acot/continuite_pedagogique_premiere\n",
    "- cliquer sur l'icone \"launch binder\" en bas de page\n",
    "- patienter quelques secondes que le serveur Jupyter démarre\n",
    "- naviguer dans le dossier `\"./algorithmique/k_plus_proches_voisins/version2\"`\n",
    "- cliquer sur le nom de ce notebook\n",
    "</div>"
   ]
  },
  {
   "cell_type": "markdown",
   "metadata": {},
   "source": [
    "# <center> Algorithme des k plus proches voisins </center>\n",
    "# <center> Initiation au Machine Learning </center>\n"
   ]
  },
  {
   "cell_type": "markdown",
   "metadata": {},
   "source": [
    "## 1. Introduction\n",
    "\n",
    "* Objectif de l’intelligence artificielle : rendre des machines capables de résoudre des problèmes complexes.\n",
    "* Deux approches de l’IA :\n",
    "  * top-down : formaliser des problèmes et concevoir des méthodes intelligentes pour les résoudre.\n",
    "  * bottom-up : apprendre à partir des cas pratiques et généraliser.\n",
    "  \n",
    "  \n",
    "* Situé dans cette deuxième catégorie, l’algorithme des k plus proches voisins( \"k nearest neighbors\" en anglais, knn en abrégé) est un des plus anciens mais aussi des plus efficaces de l’intelligence artificielle, plus précisément de l’apprentissage automatique.\n",
    "\n",
    "\n"
   ]
  },
  {
   "cell_type": "markdown",
   "metadata": {},
   "source": [
    "## 2. Présentation de l'algorithme\n",
    "L'algorithme des k plus proches voisins est très répandu notamment  :\n",
    "* Dans les systèmes de recommandationsaux abonnés de sites Internet( livres, musiques, vidéos, etc...) .\n",
    "* Dans la reconnaissance de formes, de caractères manuscrits, d'images..."
   ]
  },
  {
   "cell_type": "markdown",
   "metadata": {},
   "source": [
    "### Un exemple emblématique de données : les iris\n",
    "Afin de travailler sur un exemple, nous allons utiliser un jeu de données très connu dans le monde du machine learning : le jeu de données des fleurs \"iris\".En 1936, le botaniste américain, Edgar Anderson a collecté des données sur 3 espèces d'iris : \"iris setosa\", \"iris virginica\" et \"iris versicolor\" \n",
    "\n",
    "<img src='img_1/iris.png' alt='iris' width=600> \n",
    "\n",
    "Il les a classées à l'aide de plusieurs caractéristiques :\n",
    "- La longueur des sépales (en cm)\n",
    "- La largeur des sépales (en cm)\n",
    "- La longueur des pétales (en cm)\n",
    "- La largeur des pétales (en cm)\n",
    "\n",
    "Ces données sont ici stockées dans un fichier au format `.csv` , dont voici les deux premières lignes :\n",
    "\n",
    "    5.1,3.5,1.4,0.2,Iris-setosa\n",
    "    4.9,3.0,1.4,0.2,Iris-setosa\n",
    "\n",
    "Chaque ligne de données est composée des attributs, séparés par une virgule. Dans cet exemple, chaque donnée a donc 5 attributs, les 4 premiers sont des nombres, le dernier est par convention l'étiquette de la donnée(label). \n",
    "\n",
    "Par souci de simplification :\n",
    "* Nous nous intéressons uniquement à la largeur(\"width\") et à la longueur(\"length\") des pétales.\n",
    "* Les étiquettes sont raccourcies :\n",
    "  * \"Iris-setosa\" est remplacé par `setosa` \n",
    "  * \"Iris-virginica\" par `virginica`\n",
    "  * \"Iris-versicolor\" par `versicolor`\n",
    "\n",
    "\n",
    "__Question : en trouvant un iris, comment identifier son espèce ?__\n"
   ]
  },
  {
   "cell_type": "markdown",
   "metadata": {},
   "source": [
    "#### Exercice 1:\n",
    "<img src='img_1/extrait_jeu_donnees_iris.png' style='float:right;' width=250>\n",
    "\n",
    "1. Ouvrir le fichier <a href=\"img_1/iris.csv\">iris.csv </a> avec un tableur.\n",
    "2. Combien de colonnes contient ce fichier ?\n",
    "3. Combien de lignes contient ce fichier ?\n"
   ]
  },
  {
   "cell_type": "markdown",
   "metadata": {},
   "source": [
    "Réponse :\n",
    "   1. On peut l'ouvrir avec libre office par exemple. Le séparateur est une virgule.\n",
    "   2. Trois colonnes.\n",
    "   2. Ce fichier comporte 151 lignes(La première ligne contient les en-têtes, cela fait donc 150 spécimens mesurés)."
   ]
  },
  {
   "cell_type": "markdown",
   "metadata": {},
   "source": [
    "### Principe de l'algorithme\n",
    "Voici une réprésentation de ce jeu de données :\n",
    "<img src='img_1/graph0.png' style='float:right;' width=350>\n",
    "* En abscisse : la longueur des pétales\n",
    "* En ordonnée : la largeur des pétales"
   ]
  },
  {
   "cell_type": "markdown",
   "metadata": {},
   "source": [
    "<img src='img_1/graph1.png' style='float:right;' width=350>\n",
    "On trouve un nouvel iris dont dont la longueur des pétales est 2 cm et la largeur 0,5 cm.\n",
    "\n",
    "En plaçant le point de coordonnées $(2; 0,5)$, on constate qu'il y a de fortes chances que cet iris soit \"iris-setosa\""
   ]
  },
  {
   "cell_type": "markdown",
   "metadata": {},
   "source": [
    "<img src='img_1/graph2.png' style='float:right;' width=350>\n",
    "On trouve un nouvel iris dont dont la longueur des pétales est 2,5 cm et la largeur 0,75 cm.\n",
    "\n",
    "En plaçant le point de coordonnées $(2,5; 0,75)$, on constate qu'il est plus difficile de prendre une décision.\n",
    "\n",
    "C'est l'algorithme des k plus proches voisins qui va prendre la décision."
   ]
  },
  {
   "cell_type": "markdown",
   "metadata": {},
   "source": [
    "<img src='img_1/graph3.png' style='float:right;' width=350>\n",
    "La valeur de $k$ est le nombre de plus proches voisins(en terme de distance) avec lesquels le nouvel iris sera comparé. \n",
    "\n",
    "Dans l'exemple ci-contre, $k=3$, les trois plus proches voisins sont indiqués par des flèches.\n",
    "\n",
    "Parmi ces trois voisins, deux sont étiquettés \"setosa\" et un seul est étiquetté \"versicolor\".\n",
    "\n",
    "L'algorithme des 3 plus proches voisins choisira d'étiquetter ce nouvel iris comme \"setosa\"."
   ]
  },
  {
   "cell_type": "markdown",
   "metadata": {},
   "source": [
    "#### Rappel avant de continuer :\n",
    "* La distance dont il s'agit ici est la distance euclidienne dans un repère orthonormé entre deux points $A(x_{A};y_{A})$ et $B(x_{B};y_{B})$ :\n",
    "\n",
    "\n",
    "\n",
    "<center> $AB=\\sqrt{(x_{B}-x_{A})²+(y_{B}-y_{A})²}$ </center>\n",
    "\n"
   ]
  },
  {
   "cell_type": "markdown",
   "metadata": {},
   "source": [
    "## 3. Programmation de l'algorithme"
   ]
  },
  {
   "cell_type": "markdown",
   "metadata": {},
   "source": [
    "### Import des données depuis le fichier\n",
    "#### Exercice 2 :\n",
    "A l'aide de la bibliothèque `csv` Le programme ci-dessous stocke les données du fichier dans une liste de listes.\n",
    "Le jeu de données est mémorisé dans la variable `dataset`.Exécuter cette cellule et observer les affichages.\n",
    "\n",
    "1. Qu'est ce qui est affiché ?\n",
    "2. Qu'est-ce que `A` ?"
   ]
  },
  {
   "cell_type": "code",
   "execution_count": null,
   "metadata": {},
   "outputs": [],
   "source": [
    "import csv\n",
    "\n",
    "\n",
    "\n",
    "def lirefichier(nomfichier):\n",
    "    fichierCSV = open(nomfichier,\"r\")\n",
    "    lignes = csv.reader(fichierCSV)\n",
    "    next(lignes)\n",
    "    data = list(lignes)\n",
    "    \n",
    "    for i in range(len(data)):\n",
    "        for j in range(len(data[i])-1):\n",
    "            data[i][j] = float(data[i][j])\n",
    "    \n",
    "    return data\n",
    "\n",
    "A=(2.5,0.75)\n",
    "dataset=lirefichier('iris.csv')\n",
    "print(dataset[0])"
   ]
  },
  {
   "cell_type": "markdown",
   "metadata": {},
   "source": [
    "Réponses:\n",
    "1. La première ligne (après l'en tête) du fichier : les deux premiers éléments sont des floats, le cdernier de type string.\n",
    "2. Les caractéristiques d'un iris que l'on cherche à identifier."
   ]
  },
  {
   "cell_type": "markdown",
   "metadata": {},
   "source": [
    "### Calculer une distance d'un point à un autre\n",
    "#### Exercice 2 :\n",
    "Compléter la fonction `distance(A,B)` qui prend en paramètres deux tuples contenant les coordonnées de deux iris et qui renvoie leur distance.Ls fonction racine carrée est importée du module `math`.\n",
    "\n",
    "Ainsi avec `A=(2.5,0.75)` et `B=(1.4,0.2)`, `distance(A,B)` doit renvoyer `1.2298373876248845`.\n"
   ]
  },
  {
   "cell_type": "code",
   "execution_count": null,
   "metadata": {},
   "outputs": [],
   "source": [
    "#fonction distance\n",
    "from math import *\n",
    "\n",
    "def distance(A,B):\n",
    "    xA,yA=A\n",
    "    xB,yB=B\n",
    "    return sqrt((xB-xA)**2+(yB-yA)**2)\n",
    "\n",
    "B=(dataset[0][0],dataset[0][1])\n",
    "print(A)\n",
    "print(B)\n",
    "print(distance(A,B))"
   ]
  },
  {
   "cell_type": "markdown",
   "metadata": {},
   "source": [
    "### Calculer la distance d'un point à chacun des points du dataset.\n",
    "#### Exercice 3 :\n",
    "Compléter la fonction `distances(A,dataset)` : \n",
    "* Entrées : \n",
    "  * Un tuple `A` contenant les coordonnées d'un iris.\n",
    "  * La liste `dataset` des données\n",
    "* Sortie: Une liste triée par valeur croissante dont chaque élément est un tuple qui contient:\n",
    "  * Une distance à `A` (de type float)\n",
    "  * L'indice de l'élément de `dataset` par rapport auquel la distance est calculée\n",
    "\n",
    "Ainsi, le premier tuple de cette  liste doit contenir le voisin le plus proche de l'iris A. L'instruction `print(distances(A, dataset)[0])` doit renvoyer `(0.6103277807866851, 98)`(Ce qui signifie que l'iris le plus proche de `A` est le 99ème iris du jeu de données).\n"
   ]
  },
  {
   "cell_type": "code",
   "execution_count": null,
   "metadata": {},
   "outputs": [],
   "source": [
    "#liste des distances d'un point A aux points du dataset\n",
    "#renvoie la liste des indices et de la distance à A triée par distance croissante\n",
    "\n",
    "def distances(A,dataset):\n",
    "    resultat = [] \n",
    "    for i in range(len(dataset)):\n",
    "        point=(dataset[i][0],dataset[i][1])\n",
    "        resultat.append((distance(A,point),i))\n",
    "    return sorted(resultat) \n",
    "\n",
    "print(distances(A, dataset)[0])"
   ]
  },
  {
   "cell_type": "markdown",
   "metadata": {},
   "source": [
    "### Déterminer les étiquettes des trois plus proches voisins.\n",
    "#### Exercice 4 :\n",
    "Compléter la fonction `kppv(A,dataset)` : \n",
    "* Entrées : \n",
    "  * Un tuple `A` contenant les coordonnées d'un iris.\n",
    "  * La liste `dataset` des données\n",
    "* Sortie: Une liste contenant les étiquettes des trois plus proches voisins de A\n",
    "  \n",
    "Ainsi, l'instruction `print(kppv(A,dataset))` doit renvoyer `['versicolor', 'setosa', 'setosa']` (Ce qui correspond bien au schéma avec les flèches dans la partie précédente)."
   ]
  },
  {
   "cell_type": "code",
   "execution_count": null,
   "metadata": {},
   "outputs": [],
   "source": [
    "#renvoie les étiquettes des 3 plus proches voisins\n",
    "def kppv(A,dataset):\n",
    "    resultats = distances(A,dataset)\n",
    "    voisins=[]\n",
    "    for i in range(3):\n",
    "        voisins.append(dataset[resultats[i][1]][2])\n",
    "   \n",
    "    return voisins\n",
    "    \n",
    "    \n",
    "print(kppv(A,dataset))    "
   ]
  },
  {
   "cell_type": "markdown",
   "metadata": {},
   "source": [
    "### Identifier l'étiquette majoritaire parmi les voisins.\n",
    "#### Exercice 5 :\n",
    "Compléter la fonction `decompte(A,dataset)` : \n",
    "* Entrées : \n",
    "  * Un tuple `A` contenant les coordonnées d'un iris.\n",
    "  * La liste `dataset` des données\n",
    "* Sortie: Un dictionnaire dont les clés sont les étiquettes des iris et les valeurs le nombre de voisins correspondant à chaque étiquette\n",
    "  \n",
    "Ainsi, l'instruction `print(decompte(A, dataset))` doit renvoyer `{'versicolor': 1, 'setosa': 2}`"
   ]
  },
  {
   "cell_type": "code",
   "execution_count": null,
   "metadata": {},
   "outputs": [],
   "source": [
    "#decompte des kppv dans un dictionnaire\n",
    "\n",
    "def decompte(A,dataset):\n",
    "    voisins=kppv(A,dataset)\n",
    "    resultats={}\n",
    "    for etiquette in voisins:\n",
    "        if etiquette in resultats :\n",
    "            resultats[etiquette]=resultats[etiquette]+1\n",
    "        else:\n",
    "            resultats[etiquette]=1\n",
    "            \n",
    "    return resultats\n",
    "\n",
    "print(decompte(A, dataset))"
   ]
  },
  {
   "cell_type": "markdown",
   "metadata": {},
   "source": [
    "#### Exercice 6 :\n",
    "Compléter la fonction `prediction(A,dataset)` : \n",
    "* Entrées : \n",
    "  * Un tuple `A` contenant les coordonnées d'un iris.\n",
    "  * La liste `dataset` des données\n",
    "* Sortie: L'étiquette majoritaire des voisins de A.\n",
    "  \n",
    "Ainsi, l'instruction `prediction(A,dataset)` doit renvoyer `'setosa'`."
   ]
  },
  {
   "cell_type": "code",
   "execution_count": null,
   "metadata": {},
   "outputs": [],
   "source": [
    "#prediction de l'algorithme pour A\n",
    "def prediction(A,dataset):\n",
    "    resultats= decompte(A, dataset)\n",
    "    nmax=0\n",
    "    iris=''\n",
    "    for etiquette in resultats:\n",
    "        if resultats[etiquette] > nmax:\n",
    "            nmax = resultats[etiquette]\n",
    "            iris = etiquette\n",
    "    return iris\n",
    "\n",
    "print(prediction(A,dataset))"
   ]
  },
  {
   "cell_type": "markdown",
   "metadata": {},
   "source": [
    "#### Exercice 8 :\n",
    "Utiliser l'algorithme des 3 plus proches voisins pour déterminer l'espèce des iris suivants :\n",
    "1. C=(5.2,1.2)\n",
    "2. D=(4,2)\n",
    "3. E=(4.8,1.6)"
   ]
  },
  {
   "cell_type": "code",
   "execution_count": null,
   "metadata": {},
   "outputs": [],
   "source": [
    "#réponses\n",
    "C=(5.2,1.2)\n",
    "D=(4,2)\n",
    "E=(4.8,1.7)\n",
    "\n",
    "#1. \n",
    "print(\"C : \",prediction(C, dataset))\n",
    "#2. \n",
    "print(\"D : \",prediction(D, dataset))\n",
    "#3. \n",
    "print(\"E : \",prediction(E, dataset))"
   ]
  },
  {
   "cell_type": "markdown",
   "metadata": {},
   "source": [
    "### Remarques\n",
    "* Dans la pratique :\n",
    "  * Afin d'utiliser cet algorithme au mieux, on sépare les données en deux jeux :\n",
    "    * Le jeu d'entrainement : c'est à partir de ces données que l'on fait fonctionner l'algorithme\n",
    "    * Le jeu de test : on utilise l'algorithme pour étiqueter les valeurs de ce jeu, comme si on ne les connaissait pas et on compare ensuite avec la réalité pour déterminer le pourcentage d'erreur.\n",
    "  * On fait varier le nombre de voisins (la valeur de k ) et on identifie celle pour laquelle l'algorithme donne le plus petit pourcentage d'erreur. Dans le cas des iris, cette valeur est 4.\n",
    "\n",
    "* Bien que très efficace, cet algorithme a un  coût mémoire important ( il doit mémoriser toutes les données).\n"
   ]
  },
  {
   "cell_type": "markdown",
   "metadata": {},
   "source": [
    "## 4. Machine learning avec python :  scikit-learn\n",
    "<img src='img_1/mnist.png' style='float:right;' width=400>La bibliothèque `scikit-learn` permet de travailler avec des algorithmes d'apprentissage automatique. L'algorithme des k plus proches voisins est présent parmi d'autres dans cette bibliothèque.\n",
    "\n",
    "Dans cette partie , l'algorithme des k plus proches voisins sera utilisé avec un autre type de jeu de données célèbres : La base de données MNIST(Modified ou Mixed National Institute of Standards and Technology) qui est une base de données de chiffres écrits à la main.Elle est très utilisée pour tester et entraîner des algorithmes d'apprentissage automatique.\n",
    "\n",
    "__Ci-contre__ : Un exemple agrandi du chiffre 7, et quelques exemples du jeu de données MNIST. Chaque chiffre manuscrit est numérisé dans une image composée de $28 \\times 28=784$ pixels.Chaque pixel est une valeur entre 0 (noir) et 255 (blanc).\n"
   ]
  },
  {
   "cell_type": "markdown",
   "metadata": {},
   "source": [
    "### Modules nécéssaires\n",
    "Si l'éxécution de la cellule ci-dessous ne renvoie pas d'erreurs, passer à la suite. Sinon installer la(les) bibliothèque(s) depuis une console à l'aide de la commande `pip install nom_du_module` ou `nom_du_module` est le nom de la bibliothèque à installer."
   ]
  },
  {
   "cell_type": "code",
   "execution_count": null,
   "metadata": {},
   "outputs": [],
   "source": [
    "from sklearn import * #pour l'apprentissage automatique\n",
    "from matplotlib import pyplot #pour la représentation graphique\n",
    "from random import * #pour la génération de valeurs aléatoires"
   ]
  },
  {
   "cell_type": "markdown",
   "metadata": {},
   "source": [
    "### Import des données\n",
    "Ce programme télécharge les données (122 Mo) de 70000 images de chiffes manuscrits.L'éxécution de cette cellule peut être assez longue (quelques dizaines de secondes).\n",
    "\n",
    "Lorsque les données s'affichent, passer à la suite."
   ]
  },
  {
   "cell_type": "code",
   "execution_count": null,
   "metadata": {},
   "outputs": [],
   "source": [
    "# Source des données: https://www.openml.org/d/554\n",
    "from sklearn import *\n",
    "from matplotlib import pyplot\n",
    "from random import *\n",
    "\n",
    "print('Données en cours de chargement...')\n",
    "dataset = datasets.fetch_openml('mnist_784', version=1)\n",
    "print(dataset)"
   ]
  },
  {
   "cell_type": "markdown",
   "metadata": {},
   "source": [
    "#### Exercice 9 :\n",
    "On observe dans l'affichage précédent que les données sont stockées dans un dictionnaire. \n",
    "1. A quelle clé sont associées les valeurs des pixels d'une image ?\n",
    "2. A quelle clé est associée l'étiquette(label) de l'image ?\n",
    "3. Afficher les valeurs des pixels de la première image.\n",
    "4. Afficher l'étiquette de la première image."
   ]
  },
  {
   "cell_type": "markdown",
   "metadata": {},
   "source": [
    "Réponses :\n",
    "1. La clé `'data'`\n",
    "2. La clé `'target'`"
   ]
  },
  {
   "cell_type": "code",
   "execution_count": null,
   "metadata": {},
   "outputs": [],
   "source": [
    "#3.\n",
    "print(dataset['data'][0])\n",
    "#4. \n",
    "print(dataset['target'][0])"
   ]
  },
  {
   "cell_type": "markdown",
   "metadata": {},
   "source": [
    "### Visualisation d'un exemple d'image\n"
   ]
  },
  {
   "cell_type": "markdown",
   "metadata": {},
   "source": [
    "#### Exercice 10 :\n",
    "La cellule ci-dessous génère l'affichage d'une image au hasard parmi les 70000 du jeu de données. Compléter ce programme en remplaçant \"à compléter\" par l'instruction qui convient, pour que l'étiquette de l'image s'affiche. \n",
    "\n",
    "Ainsi, si le chiffre manuscrit est un cinq, la valeur $5$ doit s'afficher en-dessous de l'image"
   ]
  },
  {
   "cell_type": "code",
   "execution_count": null,
   "metadata": {},
   "outputs": [],
   "source": [
    "#On choisit une image au hasard\n",
    "alea=randint(0,70000)\n",
    "#conversion en liste de pixels\n",
    "sample=list(dataset['data'][alea])\n",
    "#conversion en 28 listes de 28 valeurs\n",
    "sample=[sample[28*i:28*i+28] for i in range(28)]\n",
    "#affichage de l'image\n",
    "#pyplot.gray()\n",
    "pyplot.matshow(sample) \n",
    "\n",
    "pyplot.show()\n",
    "#affichage de l'étiquette\n",
    "print(\"à compléter\")\n",
    "print(dataset['target'][alea])"
   ]
  },
  {
   "cell_type": "markdown",
   "metadata": {},
   "source": [
    "### Echantillon\n",
    "Pour des raisons de temps et de mémoire, on prélève un échantillon de 21000 images. C'est cet échantillon qui sera utilisé par la suite. Exécuter cette cellule et lorsque \"OK !\" s'affiche, passer à la suite."
   ]
  },
  {
   "cell_type": "code",
   "execution_count": null,
   "metadata": {},
   "outputs": [],
   "source": [
    "print('Extraction en cours...')\n",
    "x_junk,x_keep,y_junk,y_keep=model_selection.train_test_split(dataset['data'],dataset['target'],test_size=0.3)#\n",
    "\n",
    "dataset['data'],dataset['target'] = x_keep , y_keep\n",
    "print('OK !')"
   ]
  },
  {
   "cell_type": "markdown",
   "metadata": {},
   "source": [
    "### Jeux de tests et d'entrainement\n",
    "Lors de l’entrainement d’un algorithme de Machine Learning, la bonne pratique veut que l'on découpe notre jeu de données en jeu d’entrainement (Training Set) et jeu de test (Testing Set). Ainsi, nous pourrons tester les performances du modèle obtenu suite à l’entrainement de l’algorithme. Le test de performance se fait sur le jeu de test. L'algorithme des k plus proches voisins va prédire les étiquettes de chacune des images du jeu de test en utilisant les données du jeu d'entrainement.\n",
    "\n",
    "En général, les proportions entraînement/test sont :\n",
    "* Entraînement : 80 % des données\n",
    "* Test : 20 % des données\n",
    "\n",
    "La cellule ci-dessous génère un jeu de test et un jeu d'entraînement. Lorsque 'OK !' s'affiche, passer à la suite :"
   ]
  },
  {
   "cell_type": "code",
   "execution_count": null,
   "metadata": {},
   "outputs": [],
   "source": [
    "#découpage du jeu de données\n",
    "print('Découpage en cours...')\n",
    "x_train,x_test,y_train,y_test=model_selection.train_test_split(dataset['data'],dataset['target'],test_size=0.2)#\n",
    "print('OK !')"
   ]
  },
  {
   "cell_type": "markdown",
   "metadata": {},
   "source": [
    "#### Exercice 11 :\n",
    "Pour prédire une étiquette, l'algorithme des k plus proches voisins va donc pour chacune des images du jeu de test:\n",
    "* Calculer la distance entre celle-ci et toutes celles du jeu d'entraînement\n",
    "* Identifier les k plus proches.\n",
    "* Trouver l'étiquette majoritaire parmi ces k plus proches voisins.\n",
    "\n",
    "\n",
    "__Mais qu'est-ce que la distance entre deux images ?__"
   ]
  },
  {
   "cell_type": "markdown",
   "metadata": {},
   "source": [
    "Réponse : \n",
    "Pour calculer la distance entre deux images, on utilise la distance euclidienne dans un espace de dimension 784( le nombre de pixels de chaque image).\n",
    "\n",
    "Ainsi , si l'on note:\n",
    "* $x_{1}$ jusqu'à $x_{784}$ les valeurs des pixels d'une première image\n",
    "* $y_{1}$ jusqu'à $y_{784}$ les valeurs des pixels d'une deuxième image\n",
    "\n",
    "Alors la distance entre les deux images est égale à: $\\sqrt{(x_{1}-y_{1})²+(x_{2}-y_{2})²+...+(x_{784}-y_{784})²}$"
   ]
  },
  {
   "cell_type": "markdown",
   "metadata": {},
   "source": [
    "### Trouver la meilleure valeur pour k\n",
    "Le but de l'entraînement de l'algorithme est de trouver la valeur de k telle que le pourcentage d'erreur est le plus faible possible dans les prédictions. Pour ce faire on teste bien sûr différentes valeurs de k, mais dans la pratique, on fait aussi varier les jeux de tests et d'entraînement.\n",
    "\n",
    "Le programme ci-dessous entraîne l'algorithme des $k$ plus proches voisins pour $k=4$  sur le jeu de test précédemment créé et affiche le pourcentage de réussite. L'éxécution peut être longue(quelques dizaines de secondes)."
   ]
  },
  {
   "cell_type": "code",
   "execution_count": null,
   "metadata": {},
   "outputs": [],
   "source": [
    "print('Prédictions en cours...')\n",
    "KNN = neighbors.KNeighborsClassifier(4) # on sélectionne l'algorithme des 4 plus proches voisins\n",
    "KNN.fit(x_train, y_train)\n",
    "reussite=KNN.score(x_test,y_test)\n",
    "\n",
    "echec=1-reussite\n",
    "print(\"Taux de réussite : \", reussite)\n",
    "print(\"Taux d'échec : \",echec)"
   ]
  },
  {
   "cell_type": "markdown",
   "metadata": {},
   "source": [
    "#### Exercice 12:\n",
    "En réutilisant le programme précédent, compléter le programme ci-dessous:\n",
    "* $n$ est le nombre maximal de voisins \n",
    "* Ce programme doit calculer et le taux de prédictions correctes sur le jeu de test précédemment créé pour chaque valeur de $k \\leq n$. \n",
    "* Tous ces résultats seront contenus dans la liste `resulats`.\n",
    "\n",
    "__Attention : il y a beaucoup de calculs à effectuer. Par conséquent l'éxécution de ce programme prend plusieures dizaines de minutes.__"
   ]
  },
  {
   "cell_type": "code",
   "execution_count": null,
   "metadata": {},
   "outputs": [],
   "source": [
    "#Réponse\n",
    "resultats=[]\n",
    "n=15\n",
    "for k in range(1,n+1):\n",
    "    KNN = neighbors.KNeighborsClassifier(k) # on sélectionne l'algorithme des n plus proches voisins\n",
    "    KNN.fit(x_train, y_train) \n",
    "    reussite=KNN.score(x_test,y_test)\n",
    "    resultats.append(reussite)\n",
    "\n",
    "print(resultats)"
   ]
  },
  {
   "cell_type": "markdown",
   "metadata": {},
   "source": [
    "#### Exercice 13 :\n",
    "On suppose que la liste `resultats` contient les valeurs suivantes :\n",
    "\n",
    " `[0.9545238095238096, 0.9469047619047619, 0.9571428571428572, 0.9557142857142857, 0.9564285714285714, 0.954047619047619, 0.9528571428571428, 0.9511904761904761, 0.9514285714285714, 0.95, 0.949047619047619, 0.949047619047619, 0.9469047619047619, 0.9457142857142857, 0.9469047619047619]`\n",
    "\n",
    "1. Compléter les listes `X` et `Y` pour que le graphique affiche le pourcentage d'erreur en fonction du nombre de voisins.\n",
    "2. Quelle valeur de $k$ semble la plus adaptée au jeu de données étudié?"
   ]
  },
  {
   "cell_type": "code",
   "execution_count": null,
   "metadata": {},
   "outputs": [],
   "source": [
    "#1.\n",
    "resultats=[0.9545238095238096, 0.9469047619047619, 0.9571428571428572, 0.9557142857142857, 0.9564285714285714, 0.954047619047619, 0.9528571428571428, 0.9511904761904761, 0.9514285714285714, 0.95, 0.949047619047619, 0.949047619047619, 0.9469047619047619, 0.9457142857142857, 0.9469047619047619]\n",
    "X=range(1,16)\n",
    "Y=[(1-valeur)*100 for valeur in resultats]\n",
    "pyplot.xlabel('Nombre de voisins')\n",
    "pyplot.ylabel(\"Pourcentage d'erreur\")\n",
    "pyplot.grid()\n",
    "pyplot.plot(X,Y)\n",
    "pyplot.show()"
   ]
  },
  {
   "cell_type": "markdown",
   "metadata": {},
   "source": [
    "2. L'algorithme semble le plus performant lorsque $k=3$."
   ]
  },
  {
   "cell_type": "markdown",
   "metadata": {},
   "source": [
    "### Exemples de réussites et d'erreurs\n",
    "L'algorithme des k plus proches voisins ne se trompe pas beaucoup.Le programme ci-dessous calcule la liste `erreurs` des indices des étiquettes mal prédites et la liste `exactes` des indices des étiquettes correctement prédites.L'éxécution de cette cellule peut être longue(quelques dizaines de secondes). Lorsque \"OK !\" s'affiche, passer à la suite"
   ]
  },
  {
   "cell_type": "code",
   "execution_count": null,
   "metadata": {},
   "outputs": [],
   "source": [
    "#Liste qui contient les prédictions\n",
    "print('Calculs en cours...')\n",
    "prediction=KNN.predict(x_test) \n",
    "#listes qui contiennent les erreurs d'étiquetage, les choix corrects\n",
    "erreurs=[]\n",
    "exactes=[]\n",
    "i=0\n",
    "while i < len(y_test):\n",
    "    if prediction[i]!=y_test[i]:\n",
    "        erreurs.append(i)\n",
    "    else:\n",
    "        exactes.append(i)\n",
    "    i=i+1\n",
    "print('OK !')"
   ]
  },
  {
   "cell_type": "markdown",
   "metadata": {},
   "source": [
    "#### Exercice 14 :\n",
    "Afficher le nombres d'erreurs d'étiquettage et le nombre de prédictions correctes."
   ]
  },
  {
   "cell_type": "code",
   "execution_count": null,
   "metadata": {},
   "outputs": [],
   "source": [
    "#Réponses\n",
    "print(len(erreurs))\n",
    "print(len(exactes))"
   ]
  },
  {
   "cell_type": "markdown",
   "metadata": {},
   "source": [
    "Le programme ci-desous affiche deux images au hasard parmi celles du jeu de test ainsi que leurs étiquettes prédites: Une mal étiquetée et une correctement étiquetée."
   ]
  },
  {
   "cell_type": "code",
   "execution_count": null,
   "metadata": {},
   "outputs": [],
   "source": [
    "#on choisit une erreur au hasard    \n",
    "f=choice(erreurs)\n",
    "#liste des pixels de l'image choisie\n",
    "image1=list(x_test[f])\n",
    "#conversion en 28 listes de 28 valeurs\n",
    "image1=[image1[28*i:28*i+28] for i in range(28)]\n",
    "\n",
    "#on choisit une bonne prédiction au hasard    \n",
    "v=choice(exactes)\n",
    "#liste des pixels de l'image choisie\n",
    "image2=list(x_test[v])\n",
    "#conversion en 28 listes de 28 valeurs\n",
    "image2=[image2[28*i:28*i+28] for i in range(28)]\n",
    "\n",
    "#affichages \n",
    "#pyplot.gray()\n",
    "\n",
    "pyplot.matshow(image1) \n",
    "pyplot.title(\"Prédiction : \"+ prediction[f], pad=20)\n",
    "\n",
    "pyplot.matshow(image2) \n",
    "pyplot.title(\"Prédiction : \"+ prediction[v], pad=20)\n",
    "\n",
    "pyplot.show()"
   ]
  },
  {
   "cell_type": "markdown",
   "metadata": {},
   "source": [
    "# <center> FIN</center>"
   ]
  }
 ],
 "metadata": {
  "kernelspec": {
   "display_name": "Python 3",
   "language": "python",
   "name": "python3"
  },
  "language_info": {
   "codemirror_mode": {
    "name": "ipython",
    "version": 3
   },
   "file_extension": ".py",
   "mimetype": "text/x-python",
   "name": "python",
   "nbconvert_exporter": "python",
   "pygments_lexer": "ipython3",
   "version": "3.8.2"
  }
 },
 "nbformat": 4,
 "nbformat_minor": 2
}
