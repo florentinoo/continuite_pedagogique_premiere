{
 "cells": [
  {
   "cell_type": "markdown",
   "metadata": {},
   "source": [
    "<div class =\"alert alert-warning\">   \n",
    "    \n",
    "    \n",
    "notebook consultable, exécutable, modifiable et téléchargeable en ligne :     \n",
    "    \n",
    "\t\n",
    "- se rendre à : https://github.com/nsi-acot/continuite_pedagogique_premiere\n",
    "- cliquer sur l'icone \"launch binder\" en bas de page\n",
    "- patienter quelques secondes que le serveur Jupyter démarre\n",
    "- naviguer dans le dossier `\"./algorithmique/k_plus_proches_voisins/version_3\"`\n",
    "- cliquer sur le nom de ce notebook\n",
    "</div>"
   ]
  },
  {
   "cell_type": "markdown",
   "metadata": {},
   "source": [
    "<div class = \"alert alert-danger\">\n",
    "    \n",
    "    \n",
    "**Avant de commencer la lecture :**  \n",
    "\n",
    "    \n",
    "**Un notebook se lit en exécutant toutes les cellules de code au fur et à mesure.**   \n",
    "**Pour cela il y a le bouton \"Exécuter\" dans la barre d'outils du notebook (bouton \"Play\")**  \n",
    "    \n",
    ".\n",
    "    \n",
    "    \n",
    "Dans ce notebook, pour faciliter la lecture, un certain nombre de fonctions ont été codées dans un fichier externe d'où la nécessité d'importer le module `kNN_sur_breast` en exécutantla cellule de code ci-dessous.   \n",
    "\n",
    "Par ailleurs cela rendra également disponible le jeu de données."
   ]
  },
  {
   "cell_type": "code",
   "execution_count": null,
   "metadata": {},
   "outputs": [],
   "source": [
    "from kNN_sur_breast import*\n",
    "table_mesures = obtenir_table_datas('./datas/wdbc_normalisee.data') "
   ]
  },
  {
   "cell_type": "markdown",
   "metadata": {},
   "source": [
    "<h1 style = \"text-align: center;\"> Etude de données :  Prédiction de la gravité d'une tumeur du sein </h1>\n",
    "\n",
    "\n",
    "Le jeu de données utilisé a été obtenu dans le cadre d'une étude menée en collaboration avec l'université du Wisconsin. L'étude a trouvé une méthode pour prédire le caractère bénin ou malin d'un cancer du sein au vu de la forme des noyaux des cellules cancéreuses.  \n",
    "Dans toute la suite \"faire un diagnostic\" signifiera \"prédire la caractère bénin ou malin d'un cancer du sein\"."
   ]
  },
  {
   "cell_type": "markdown",
   "metadata": {},
   "source": [
    "<div class = \"alert alert-warning\">\n",
    "\n",
    "**Question :**\n",
    "    \n",
    "Que signifiera \"faire un diagnostic\" dans ce notebook ?"
   ]
  },
  {
   "cell_type": "markdown",
   "metadata": {},
   "source": [
    "# Présentation du jeu de données et mise à disposition dans une table\n",
    "\n",
    "\n",
    "Voici un exemple d'enregistrement qui correspond aux données d'une seule patiente parmi les 569 patientes présentes dans le fichier : \n",
    "\n",
    "\n",
    "```\n",
    "{'rayonM': 1.029,\n",
    " 'textureM': 0.725,\n",
    " 'perimetreM': 1.021,\n",
    " 'aireM': 0.984,\n",
    " 'regulariteM': 1.141,\n",
    " 'compaciteM': 0.886,\n",
    " 'concaviteM': 0.776,\n",
    " 'nb_concaveM': 1.328,\n",
    " 'symetrieM': 0.911,\n",
    " 'fractaleM': 0.975,\n",
    " 'rayonES': 0.755,\n",
    " 'textureES': 0.593,\n",
    " 'perimetreES': 0.748,\n",
    " 'aireES': 0.637,\n",
    " 'regulariteES': 0.871,\n",
    " 'compaciteES': 0.491,\n",
    " 'concaviteES': 0.506,\n",
    " 'nb_concaveES': 0.963,\n",
    " 'symetrieES': 1.074,\n",
    " 'fractaleES': 0.939,\n",
    " 'rayonP': 0.971,\n",
    " 'textureP': 0.659,\n",
    " 'perimetreP': 0.961,\n",
    " 'aireP': 0.852,\n",
    " 'regulariteP': 1.018,\n",
    " 'compaciteP': 0.581,\n",
    " 'concaviteP': 0.504,\n",
    " 'nb_concaveP': 0.933,\n",
    " 'symetrieP': 0.898,\n",
    " 'fractaleP': 0.93,\n",
    " 'ID': 911201,\n",
    " 'Etiquette': 'B'}\n",
    "```\n",
    "\n",
    "### Description des différents champs\n",
    "\n",
    "Le jeu de données comporte 569 enregistrements. Pour chacun des enregistrements, on dispose :\n",
    "- de deux champs concernant l'identifiant de la patiente et la gravité de sa tumeur :\n",
    "    - `ID` : identifiant de la patiente, \n",
    "    - `Etiquette` : gravité de la tumeur (M = Maligne, B = Bénigne).\n",
    " \n",
    " \n",
    "- de trente champs concernant des mesures effectuées sur les noyaux de cellules tumorales (chaque mesure ayant été effectuée plusieurs fois sur le noyau de la cellule, les suffixes `M`, `P` ou `ES` permettent de distinguer la valeur moyenne de la mesure, la pire valeur de la mesure et l'erreur standard sur les différentes mesures):\n",
    "    - `rayonM`, `rayonP`, `rayonES` : rayon, \n",
    "    - `textureM`, `textureP`, `textureES` : indice mesurant la texture, \n",
    "    - `perimetreM`, `perimetreP`, `perimetreES` : perimètre, \n",
    "    - `aireM`, `aireP`, `aireES` : surface, \n",
    "    - `regulariteM`, `regulariteP`, `regulariteES` : indice mesurant les variations de la distance centre --> périphérie, \n",
    "    - `compaciteM`, `compaciteP`, `compaciteES` : indice mesurant la compacité $(\\frac{(perimetre)^2}{area} - 1)$. \n",
    "    - `concaviteM`, `concaviteP`, `concaviteES` : indice mesurant la concavité (le fait de présenter des creux), \n",
    "    - `nb_concaveM`, `nb_concaveP`, `nb_concaveES` : nombre de points de concavité, \n",
    "    - `symetrieM`, `symetrieP`, `symetrieES` : indice mesurant le caractère symétrique, \n",
    "    - `fractaleM`, `fractaleP`, `fractaleES` : indice mesurant la dimension fractale.\n",
    "\n",
    "\n",
    "### Spécificité du champ `Etiquette`\n",
    "Le champ concernant la gravitéde la tmeur est spécial dans ce jeu de données et est appelé `Etiquette` car c'est lui que l'on cherchera à prédire.  \n",
    "\n",
    "Dans le vaste domaine de l'étude des données, lorsqu'on fait de la prédiction de classe, le terme `Etiquette` est traditionnellement utilisé (ici on a deux étiquettes : `M` et `B`) pour désigner les classes dans lesquelles on cherche  à \"ranger\" un individu.   \n",
    "\n",
    "En termes médicaux, si on reformule cela, pour une future patiente un médecin cherchera à établir un diagnostic de la gravité de sa tumeur (`M` ou `B`) au vu des valeurs des 30 mesures effectuées sur les noyaux des cellules."
   ]
  },
  {
   "cell_type": "markdown",
   "metadata": {},
   "source": [
    "<div class = \"alert alert-info\">\n",
    " \n",
    "On cherche, en  exploitant ce jeu de données de 569 femmes, à trouver une méthode permettant d'effectuer un diagnostic (**Maligne** ou **Bénigne**) sur une **nouvelle** patiente qui n'est PAS dans le fichier des 569 enregistrements. La méthode générale est la suivante :\n",
    "    \n",
    "\n",
    "- on effectue un prélèvement médical sur cette nouvelle patiente,\n",
    "- sur les noyaux des cellules cancéreuses de la nouvelle patiente, on effectue les 30 mesures associées aux 30 champs ci-dessus, \n",
    "- à partir de ces 30 valeurs on cherche à prédire la valeur de l'`Etiquette`, c'est à dire déterminer si la tumeur est **Maligne** ou **Bénigne**,\n",
    "- on souhaite aussi connaître les taux d'erreur du diagnostic effectué (tableau de contingence)."
   ]
  },
  {
   "cell_type": "markdown",
   "metadata": {},
   "source": [
    "<div class = \"alert alert-warning\">\n",
    "\n",
    "**Question :**  \n",
    "    \n",
    "- Combien y a-t-il d'enregistrements dans le jeu de données utilisées ?\n",
    "    \n",
    "- Pour chaque enregistrement, combien y a-t-il de champs différents ?  \n",
    "    \n",
    "- Parmi ces champs, quels sont les deux champs qui ont un rôle spécial par rapport à tous les autres ? \n",
    "    \n",
    "    \n",
    "- Quel est le champ que l'on cherchera à prédire sur les nouvelles patientes lorsqu'on fera des diagnostics ?\n",
    "    \n"
   ]
  },
  {
   "cell_type": "markdown",
   "metadata": {},
   "source": [
    "### Importation en Python\n"
   ]
  },
  {
   "cell_type": "markdown",
   "metadata": {},
   "source": [
    "Le jeu de données utilisé est situé dans une table qui comporte 569 enregistrements :"
   ]
  },
  {
   "cell_type": "code",
   "execution_count": null,
   "metadata": {},
   "outputs": [],
   "source": [
    "len( table_mesures )"
   ]
  },
  {
   "cell_type": "markdown",
   "metadata": {
    "scrolled": true
   },
   "source": [
    "On peut désormais accéder aux **30 mesures** obtenues sur les 569 patientes et aux **étiquettes** **Maligne** ou **Bénigne** de leurs tumeurs. Ainsi pour accéder à l'enregistrement de la 444 ème patiente, enregistrement qui contient  l'**ensemble de ses mesures** et son **étiquette**, il suffit d'exécuter l'instruction suivante :\n"
   ]
  },
  {
   "cell_type": "code",
   "execution_count": null,
   "metadata": {},
   "outputs": [],
   "source": [
    "table_mesures[453]"
   ]
  },
  {
   "cell_type": "markdown",
   "metadata": {},
   "source": [
    "Et pour obtenir une **mesure précise** - donnée par son descripteur - concernant la 310ème patiente de l'étude :"
   ]
  },
  {
   "cell_type": "code",
   "execution_count": null,
   "metadata": {},
   "outputs": [],
   "source": [
    "table_mesures[309]['rayonM']"
   ]
  },
  {
   "cell_type": "code",
   "execution_count": null,
   "metadata": {},
   "outputs": [],
   "source": [
    "table_mesures[309]['rayonP']"
   ]
  },
  {
   "cell_type": "code",
   "execution_count": null,
   "metadata": {},
   "outputs": [],
   "source": [
    "table_mesures[309]['concaviteM']"
   ]
  },
  {
   "cell_type": "markdown",
   "metadata": {},
   "source": [
    "On peut aussi savoir si cette patiente avait souffert d'un cas **B**égnin ou **M**alin en demandant son étiquette :"
   ]
  },
  {
   "cell_type": "code",
   "execution_count": null,
   "metadata": {},
   "outputs": [],
   "source": [
    "table_mesures[309]['Etiquette']"
   ]
  },
  {
   "cell_type": "markdown",
   "metadata": {},
   "source": [
    "<div class = \"alert alert-info\">\n",
    "\n",
    "On voit donc que l'instruction `table_mesures[numero_patiente][descripteur]` permet d'accéder, pour la patiente `numero_patiente`, à la valeur du descripteur indiqué. On a donc accès à toutes les données du fichier dans python.\n"
   ]
  },
  {
   "cell_type": "markdown",
   "metadata": {},
   "source": [
    "<div class = \"alert alert-warning\">\n",
    "\n",
    "**Question :**\n",
    "    \n",
    " - Donner les valeurs des champs `symetrieM`, `aireP`, `rayonES` de la 333eme patiente de la liste.\n",
    "\n",
    "- Quelle est son étiquette ? et son identifiant ?"
   ]
  },
  {
   "cell_type": "markdown",
   "metadata": {},
   "source": [
    "# Etudier les données pour savoir lesquelles sont pertinentes\n",
    "\n",
    "\n",
    "Dans un jeu de données, il peut y avoir des champs qui n'ont aucune utilité pour effectuer la prédiction de l'étiquette que l'on cherche à réaliser. Pour plusieurs raisons, les valeurs des champs inutiles ne doivent de préférence pas être prises en compte. Sans rentrer dans les détails, prendre en compte des données non pertinentes ne peut qu'altérer la qualité de la prédiction effectuée\n",
    "\n",
    "\n",
    "Lors de la mise en oeuvre d'une méthode de prédiction basée sur des données en quantité, il faut donc effectuer une étude en amont pour trouver les champs pertinents à prendre en compte et ceux qui peuvent ou doivent être écartés. Il faut également bien souvent, pour réduire le plus possible les taux d'erreur de prédiction, déterminer des coefficients à appliquer à tel ou tel champ."
   ]
  },
  {
   "cell_type": "markdown",
   "metadata": {},
   "source": [
    "<div class = \"alert alert-warning\">\n",
    "\n",
    "**Question :**\n",
    "\n",
    "- Dans notre jeu de données initial nous avons 30 champs à disposition pour effectuer une prédiction de l'étiquette. Pourquoi ne doit-on pas garder tous ces 30 champs pour faire un diagnostic ?"
   ]
  },
  {
   "cell_type": "markdown",
   "metadata": {},
   "source": [
    "Voyons maintenant quelques graphiques qui vont nous faire comprendre visuellement comment on peut voir que certains champs sont \"utiles\" et que d'autres champs sont \"inutiles\"."
   ]
  },
  {
   "cell_type": "markdown",
   "metadata": {},
   "source": [
    "<div class = \"alert alert-danger\">\n",
    "\n",
    "\n",
    "## Pertinence / Non-pertinence d'un seul champ du jeu de données \n",
    "\n",
    "La fonction `afficher_mesures_descripteur` permet de visualiser un graphique obtenu en traçant le nuage de points pour lequel :\n",
    "- **un point correspond à une patiente**\n",
    "- **l'abscisse du point est la mesure obtenue pour le descripteur,**\n",
    "- **LA COULEUR DU POINT EST LE CARACTERE MALIN (ROUGE) OU BENIN (VERT) DE LA TUMEUR.**"
   ]
  },
  {
   "cell_type": "markdown",
   "metadata": {},
   "source": [
    "### aireP, concaviteP et compaciteM : nuages rouge et verts séparés --> bons prédicteurs uniques"
   ]
  },
  {
   "cell_type": "markdown",
   "metadata": {},
   "source": [
    "En utilisant cet affichage, on peut trouver des descripteurs pour lesquels les points rouges et verts sont nettement séparés : ces descripteurs permettent donc de faire un diagnostic. De tels descripteurs sont par exemple `aireP`, `compaciteM` et `concaviteP`.\n",
    "\n",
    "Si on dispose de la valeur de ce descripteur sur une nouvelle patiente, en plaçant la valeur sur le graphique, selon la zone rouge ou verte on sera capable de faire un diagnostic.   \n",
    "\n",
    "Par exemple si on a une patiente avec aireP = 0,4 on voit que c'est en zone verte donc on peut se dire que c'est sans doute un cas bénin et faire la diagnostic : 'Etiquette = 'B'.  \n",
    "A contrario, si on a une patiente avec compaciteM = 2,5 on voit que c'est en zone rouge donc on peut se dire que c'est sans doute un cas malin et faire la diagnostic : 'Etiquette = 'M'.  \n",
    "\n",
    "On dit que ce sont de **bons prédicteurs uniques** car ils vont permettre de faire de bonnes prévisions."
   ]
  },
  {
   "cell_type": "code",
   "execution_count": null,
   "metadata": {},
   "outputs": [],
   "source": [
    "afficher_mesures_descripteur('aireP', table_mesures)"
   ]
  },
  {
   "cell_type": "code",
   "execution_count": null,
   "metadata": {},
   "outputs": [],
   "source": [
    "afficher_mesures_descripteur('concaviteP', table_mesures)"
   ]
  },
  {
   "cell_type": "code",
   "execution_count": null,
   "metadata": {},
   "outputs": [],
   "source": [
    "afficher_mesures_descripteur('compaciteM', table_mesures)"
   ]
  },
  {
   "cell_type": "markdown",
   "metadata": {},
   "source": [
    "### fractaleM, regulariteM, symetrieM : nuages rouge et vert superposés --> mauvais prédicteurs uniques"
   ]
  },
  {
   "cell_type": "markdown",
   "metadata": {},
   "source": [
    "On peut aussi trouver des descripteurs pour lesquels les points rouges et verts ne sont pas séparés et sont tous les uns sur les autres (sur les chémas ci-dessous, les points rouges sont dessinés SOUS les points verts).  De tels descripteurs sont par exemple `fractaleM`, `regulariteM` et `symetrieM`.  \n",
    "\n",
    "Si par exemple on a une patiente avec fractaleM = 1,1 on sera incapable de savoir si on est dans un cas bénin ou malin puisque les points verts et rouges sont superposés ...\n",
    "\n",
    "On dit que ce sont de **mauvais prédicteurs uniques** car ils ne vont pas permettre de faire de bonnes prévisions."
   ]
  },
  {
   "cell_type": "code",
   "execution_count": null,
   "metadata": {},
   "outputs": [],
   "source": [
    "afficher_mesures_descripteur('fractaleM', table_mesures)"
   ]
  },
  {
   "cell_type": "code",
   "execution_count": null,
   "metadata": {},
   "outputs": [],
   "source": [
    "afficher_mesures_descripteur('regulariteM', table_mesures)"
   ]
  },
  {
   "cell_type": "code",
   "execution_count": null,
   "metadata": {},
   "outputs": [],
   "source": [
    "afficher_mesures_descripteur('symetrieM', table_mesures)"
   ]
  },
  {
   "cell_type": "markdown",
   "metadata": {},
   "source": [
    "### à vous de deviner ..."
   ]
  },
  {
   "cell_type": "markdown",
   "metadata": {},
   "source": [
    "<div class = \"alert alert-warning\">\n",
    "\n",
    "**Question 1 :**  \n",
    "\n",
    "En observant les graphiques ci-dessus :\n",
    "    \n",
    "- Une patiente a une valeur du champ `concaviteP` égale à 0,8.  Quel diagnostic feriez vous ?\n",
    "    \n",
    "- On a une patiente avec une valeur du champ `fractaleM` égale à 1. Feriez vous un diagnostic ?"
   ]
  },
  {
   "cell_type": "markdown",
   "metadata": {},
   "source": [
    "<div class = \"alert alert-warning\">\n",
    "\n",
    "**Question 2 :**  \n",
    "\n",
    "En observant les graphiques ci-dessous :  \n",
    "    \n",
    "- Le champ `nb_concaveES` est-il un bon ou un mauvais prédicteur pour faire un diagnostic ?  \n",
    "    \n",
    "- Le champ `rayonP` est-il un bon ou un mauvais prédicteur pour faire un diagnostic ?  \n",
    "    \n"
   ]
  },
  {
   "cell_type": "code",
   "execution_count": null,
   "metadata": {},
   "outputs": [],
   "source": [
    "afficher_mesures_descripteur('nb_concaveES', table_mesures)"
   ]
  },
  {
   "cell_type": "code",
   "execution_count": null,
   "metadata": {},
   "outputs": [],
   "source": [
    "afficher_mesures_descripteur('rayonP', table_mesures)"
   ]
  },
  {
   "cell_type": "markdown",
   "metadata": {},
   "source": [
    "## Représentation de deux ou trois champs du jeu de données en 2D ou en 3D \n",
    "\n",
    "### Pourquoi se contenter d'un seul descripteur pris isolément est une mauvaise idée ? \n",
    "\n",
    "**Car un descripteur unique peut être mauvais tout seul alors que couplé avec un autre descripteur il peut être performant**.  \n",
    "\n",
    "Cette idée est fondamentale en statistiques. Une façon simple de la comprendre est l'exemple suivant issu de la physique.  \n",
    "- On considère un objet homogène avec un descripteur \"masse\" et un descripteur \"volume\".   \n",
    "\n",
    "- Vous devez deviner si l'objet **flotte (gros points rouges)** ou **coule (petits points bleus)** uniquement en voyant la valeur de la masse et/ou du volume.   \n",
    "\n",
    "- Si vous ne regardez **que** la masse c'est un très mauvais prédicteur : des objets lourds (tronc d'arbre) peuvent flotter et des objets légers peuvent couler (gravillon) ou le contraire (brindille et rocher).  \n",
    "\n",
    "- Si vous ne regardez **que** le volume c'est un très mauvais indicateur également (trouvez vos exemples).  \n",
    "\n",
    "- Par contre si vous regardez les deux prédicteurs masse et volume **ensemble** c'est un excellent prédicteur. Lorsque le volume en litres est inférieur à la masse en kg, l'objet coule : en 2D on obtient deux nuages de points clairement séparés.  \n",
    "\n",
    "| Prédicteur Masse **isolé** (mauvais) | Prédicteur Volume **isolé** (mauvais) | Prédicteurs regardés **ensemble** (très bon)|\n",
    "|:--------------------------:|:---------------------------:|:--------------------------------:|\n",
    "| <img src='./images/masse2.png'> | <img src='./images/volume2.png'> | <img src='./images/masse_volume2.png'> |"
   ]
  },
  {
   "cell_type": "markdown",
   "metadata": {},
   "source": [
    "<div class = \"alert alert-warning\">\n",
    "\n",
    "**Question :**  \n",
    "    \n",
    "- En utilisant le graphique de gauche : vous avez un objet de 7 kg. Pouvez vous prédire s'il flotte ou coule ?  \n",
    "    \n",
    "\n",
    "- En utilisant le graphique du milieu : vous avez un objet de 9 litres. Pouvez vous prédire s'il flotte ou coule ?   \n",
    "    \n",
    "    \n",
    "- En utilisant le graphique de droite : vous avez un objet de 6 litres pour 3 kilos. Pouvez vous prédires 'il flotte ou coule ?"
   ]
  },
  {
   "cell_type": "markdown",
   "metadata": {},
   "source": [
    "**Revenons maintenant à notre problème de diagnostic médical et voyons ce que l'on obtient lorsqu'on regarde plusieurs prédicteurs à la fois.**\n",
    "\n",
    "\n",
    "\n",
    "### Représentation 2D pour nos données médicales\n",
    "\n",
    "La fonction `afficher_mesures_deux_descripteurs` permet de visualiser le graphique 2D obtenu en traçant le nuage de points pour lequel :\n",
    "- un point correspond à une patiente\n",
    "- l'abscisse du point est la mesure obtenue pour le descripteur 1,\n",
    "- l'ordonnée du point est la mesure obtenue pour le descripteur 2,\n",
    "- la couleur du point est le caractère malin ou bénin de la tumeur."
   ]
  },
  {
   "cell_type": "markdown",
   "metadata": {},
   "source": [
    "En utilisant ces affichages, ce qui a été constaté avec un seul descripteur se généralise aux paires de deux descripteurs. On constate que certaines paires de descripteurs permettent de mieux séparer les points verts (**B**énigne) et les points rouges (**M**aligne) que d'autres. On peut même trouver des paires de descripteurs qui, pris de façon individuelle n'étaient pas discriminants alors qu epris en couple ils le deviennent.\n",
    "    \n",
    "Voici trois exemples du plus discriminant au moins discriminant. Il ne faut pas hésiter  à modifier les descripteurs choisis dans les cellules de code pour voir si cela améliore ou pas la discrimination.\n",
    "   "
   ]
  },
  {
   "cell_type": "code",
   "execution_count": null,
   "metadata": {},
   "outputs": [],
   "source": [
    "afficher_mesures_deux_descripteurs('perimetreM', 'concaviteM', table_mesures)"
   ]
  },
  {
   "cell_type": "code",
   "execution_count": null,
   "metadata": {},
   "outputs": [],
   "source": [
    "afficher_mesures_deux_descripteurs('compaciteM', 'regulariteM', table_mesures)"
   ]
  },
  {
   "cell_type": "code",
   "execution_count": null,
   "metadata": {},
   "outputs": [],
   "source": [
    "afficher_mesures_deux_descripteurs('symetrieP', 'fractaleP', table_mesures)"
   ]
  },
  {
   "cell_type": "markdown",
   "metadata": {},
   "source": [
    "<div class = \"alert alert-warning\">\n",
    "\n",
    "**Question :**\n",
    "    \n",
    "Vous devez effectuer un diagnostic au vu de seulement deux descripteurs : soit `(perimetreM, concaviteM)`, soit `(compaciteM, regulariteM)` ou soit `(symetrieP, fractaleP)`.  \n",
    "\n",
    "\n",
    "Quel couple de descripteurs choisissez vous ?"
   ]
  },
  {
   "cell_type": "markdown",
   "metadata": {},
   "source": [
    "### Représentation 3D pour nos données médicales"
   ]
  },
  {
   "cell_type": "markdown",
   "metadata": {},
   "source": [
    "On peut étendre ce qui précède en choisissant cette fois-ci trois descripteurs au lieu de se restreindre à deux.\n",
    "\n",
    "\n",
    "L'éude menée par les chercheurs conclut que parmi les triplets de mesures, les trois mesures associées à `aireP`, `regulariteP` et `textureM` sont celles qui fonctionnent le mieux. On pourra utilement comparer les nuages de points obtenus avec ces trois mesures et les nuages de points obtenus avec, par exemple, les mesures `fractaleM`, `symetrieM` et `compaciteM` :\n"
   ]
  },
  {
   "cell_type": "code",
   "execution_count": null,
   "metadata": {},
   "outputs": [],
   "source": [
    "%matplotlib notebook"
   ]
  },
  {
   "cell_type": "code",
   "execution_count": null,
   "metadata": {},
   "outputs": [],
   "source": [
    "afficher_mesures_trois_descripteurs('aireP', 'regulariteP', 'textureM', table_mesures)"
   ]
  },
  {
   "cell_type": "code",
   "execution_count": null,
   "metadata": {},
   "outputs": [],
   "source": [
    "afficher_mesures_trois_descripteurs('fractaleM', 'symetrieM', 'regulariteM', table_mesures)"
   ]
  },
  {
   "cell_type": "markdown",
   "metadata": {},
   "source": [
    "<div class = \"alert alert-warning\">\n",
    "    \n",
    "\n",
    "**Question :**\n",
    "\n",
    "\n",
    "- Parmi les deux triplets de descripteurs choisis ci-dessus : `(aireP, regulariteP, textureM)` et `(fractaleM, symetrieM, regulariteM)`, lequel choisiriez vous pour établir des diagnostics ?  \n",
    "    \n",
    "    \n",
    "- Une patiente a `aireP = 1` ainsi que `regulariteP = 1.4` et `textureM = 1.4`.  Quel diagnostic faites vous ?"
   ]
  },
  {
   "cell_type": "markdown",
   "metadata": {},
   "source": [
    "<div class=\"alert alert-info\">  \n",
    "\n",
    "\n",
    "### Conclusion\n",
    "Avant d'implémenter une méthode - quelle qu'elle soit - une étude des données en amont est souvent nécessaire afin de pouvoir détecter comment discriminer au mieux les données."
   ]
  },
  {
   "cell_type": "markdown",
   "metadata": {},
   "source": [
    "# Méthode de prédiction des moindres carrés\n",
    "\n",
    "Compte-tenu du domaine médical auquel nous nous intéressons, il est important d'évaluer la qualité du diagnostic fourni. Cela permettra de choisir les descripteurs les plus efficaces pour effectuer la prédiction mais aussi de choisir la meilleure valeur de k possible (k est le nombre de voisins pris en compte dans la méthode algorithmique de diagnostic des k plus proches voisins).  \n",
    "\n",
    "\n",
    "Nous allons ici utiliser la \"leave-one-out cross-validation\" :\n",
    "\n",
    "\n",
    "**Pour chacune des 569 patientes** :\n",
    "- mettre l'étiquette (`B` ou `M`) des données de la patiente à la poubelle,\n",
    "- utiliser les données des 568 autres patientes comme données d'apprentissage,\n",
    "- effectuer un diagnostic (`B` ou `M`) sur la patiente à partir :\n",
    "    - des valeurs des mesures de la patiente,\n",
    "    - des 568 données des autres patientes.\n",
    "- comparer le diagnostic obtenu  avec l'étiquette mise à la poubelle.\n",
    "- selon le résultat, incrémenter le compteur de vrai-positif ou de faux-positif ou de faux-négatif ou de vrai-négatif.\n",
    "\n",
    "On est ainsi en mesure de tester 569 fois l'efficacité de la méthode de prédiction ce qui nous permettra d'obtenir ce qu'on appelle un tableau de contingence."
   ]
  },
  {
   "cell_type": "markdown",
   "metadata": {},
   "source": [
    "Par exemple le résultat affiché par la cellule ci-dessous nous indique qu'avec :\n",
    "- les descripteurs `fractaleM`, `symetrieM`, `regulariteM`\n",
    "- k = 5\n",
    "\n",
    "On a eu :\n",
    "- 281 patientes qui ont été diagnostiquées \"Bénin\" et dont l'étiquette mise à la poubelle était \"Bénin\" (vrai négatif)\n",
    "- 84    patientes qui ont été diagnostiquées \"Bénin\" et dont l'étiquette mise à la poubelle était \"Malin\" (faux négatif)\n",
    "- 76    patientes qui ont été diagnostiquées \"Malin\" et dont l'étiquette mise à la poubelle était \"Bénin\" (faux positif)\n",
    "- 128  patientes qui ont été diagnostiquées \"Malin\" et dont l'étiquette mise à la poubelle était \"Malin\" (vrai postif)"
   ]
  },
  {
   "cell_type": "code",
   "execution_count": null,
   "metadata": {},
   "outputs": [],
   "source": [
    "descripteurs = ['fractaleM', 'symetrieM', 'regulariteM']\n",
    "k = 5\n",
    "afficher_contingences(LOOCV(descripteurs, k, table_mesures))"
   ]
  },
  {
   "cell_type": "markdown",
   "metadata": {},
   "source": [
    "En testant différents descripteurs on trouve que certains choix de descripteurs et de k sont bien meilleurs que d'autres. Voici un très bon choix :"
   ]
  },
  {
   "cell_type": "code",
   "execution_count": null,
   "metadata": {
    "scrolled": true
   },
   "outputs": [],
   "source": [
    "descripteurs = ['textureM', 'regulariteP', 'aireP']\n",
    "k = 7\n",
    "afficher_contingences(LOOCV(descripteurs, k, table_mesures))"
   ]
  },
  {
   "cell_type": "markdown",
   "metadata": {},
   "source": [
    "On constate que ce n'est parce qu'on prend plein de descripteurs qu'on obtient de meilleurs résultats :"
   ]
  },
  {
   "cell_type": "code",
   "execution_count": null,
   "metadata": {},
   "outputs": [],
   "source": [
    "descripteurs = [\n",
    " 'rayonM',\n",
    " 'textureM',\n",
    " 'perimetreM',\n",
    " 'aireM',\n",
    " 'regulariteM',\n",
    " 'compaciteM',\n",
    " 'concaviteM',\n",
    " 'nb_concaveM',\n",
    " 'symetrieM',\n",
    " 'fractaleM',\n",
    " 'rayonP',\n",
    " 'textureP',\n",
    " 'perimetreP',\n",
    " 'aireP',\n",
    " 'regulariteP',\n",
    " 'compaciteP',\n",
    " 'concaviteP',\n",
    " 'nb_concaveP',\n",
    " 'symetrieP',\n",
    " 'fractaleP'] \n",
    "k = 7\n",
    "afficher_contingences(LOOCV(descripteurs, k, table_mesures))"
   ]
  },
  {
   "cell_type": "markdown",
   "metadata": {},
   "source": [
    "<div class = \"alert alert-danger\">\n",
    "\n",
    "## Conclusion\n",
    "\n",
    "On remarque donc un point très intéressant : le fait de choisir davantage de descripteurs n'améliore pas forcément la méthode de prédiction ! Ce qui démontre la nécessité de : \n",
    "- faire des études en amont de la mise en oeuvre de la méthode pour trouver les données les plus pertinentes,\n",
    "- faire des études en aval de la mise en oeuvre pour évaluer la qualité de la méthode et ajuster les valeurs des paramètres."
   ]
  },
  {
   "cell_type": "code",
   "execution_count": null,
   "metadata": {},
   "outputs": [],
   "source": [
    "descripteurs = ['textureM', 'regulariteP', 'aireP', 'fractaleM', 'symetrieM', 'regulariteM']\n",
    "k = 5\n",
    "afficher_contingences(LOOCV(descripteurs, k, table_mesures))"
   ]
  },
  {
   "cell_type": "markdown",
   "metadata": {
    "scrolled": true
   },
   "source": [
    "<h1 style = \"text-align: center;\"> Normalisation du jeu de données </h1>\n",
    "\n",
    "Ce code permet d'obtenir, à partir du fichier de données initial, un fichier de données où les mesures de chacun des champs ont été divisées par leur moyenne afin de normaliser les mesures (qui ont ainsi toutes une moyenne égale à un dans ce nouveau fichier).\n",
    "\n",
    "\n",
    "Dans la méthode des moindres carrés, cela permet de donner la même importance (le même coefficient) à chacun des descripteurs."
   ]
  },
  {
   "cell_type": "code",
   "execution_count": null,
   "metadata": {},
   "outputs": [],
   "source": [
    "import csv\n",
    "import matplotlib.pyplot as plt\n",
    "\n",
    "def fournir_dictionnaire_moyennes(table_mesures):\n",
    "    liste_descripteurs = [key for key in table_mesures[0].keys() if key not in ['Etiquette', 'ID']]\n",
    "    dico_moyennes = {}\n",
    "    for descripteur in liste_descripteurs:\n",
    "        moyenne = 0\n",
    "        for patiente in table_mesures:\n",
    "            moyenne = moyenne + patiente[descripteur]\n",
    "        moyenne = moyenne / len(table_mesures)\n",
    "        dico_moyennes[descripteur] = moyenne\n",
    "    return dico_moyennes\n",
    "\n",
    "\n",
    "def enregistrer_table_datas_normalisees(table_mesures):\n",
    "    '''Permet de charger le contenu du fichier de données dans une table '''\n",
    "    queue_descripteurs = [  'rayon', 'texture', 'perimetre', 'aire', \n",
    "                            'regularite', 'compacite', 'concavite', 'nb_concave', \n",
    "                            'symetrie', 'fractale']\n",
    "    sur_queue = ['M', 'ES', 'P']\n",
    "    dico_moyennes = fournir_dictionnaire_moyennes(table_mesures)\n",
    "    table_mesures_normalisees = []\n",
    "    lignes = ''\n",
    "    for patiente in table_mesures:\n",
    "        lignes = lignes + str(patiente['ID']) + ',' + str(patiente['Etiquette'])\n",
    "        for i in range(3):\n",
    "            for descripteur in queue_descripteurs:\n",
    "                lignes = lignes + ',' + str(round(patiente[descripteur + sur_queue[i]]/dico_moyennes[descripteur + sur_queue[i]],3))\n",
    "        lignes = lignes + '\\n'\n",
    "    datas = open( '.\\\\breast-cancer\\wdbc_normalisee.data', 'w')\n",
    "    datas.write(lignes)\n",
    "    datas.close()\n",
    "    \n",
    "\n",
    "table_mesures = obtenir_table_datas('.\\\\breast-cancer\\wdbc.data')\n",
    "enregistrer_table_datas_normalisees(table_mesures)\n",
    "            \n",
    "    "
   ]
  },
  {
   "cell_type": "code",
   "execution_count": null,
   "metadata": {},
   "outputs": [],
   "source": []
  }
 ],
 "metadata": {
  "kernelspec": {
   "display_name": "Python 3",
   "language": "python",
   "name": "python3"
  },
  "language_info": {
   "codemirror_mode": {
    "name": "ipython",
    "version": 3
   },
   "file_extension": ".py",
   "mimetype": "text/x-python",
   "name": "python",
   "nbconvert_exporter": "python",
   "pygments_lexer": "ipython3",
   "version": "3.8.2"
  }
 },
 "nbformat": 4,
 "nbformat_minor": 2
}
